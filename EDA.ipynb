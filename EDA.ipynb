{
 "cells": [
  {
   "cell_type": "code",
   "execution_count": 30,
   "id": "9b300e1f",
   "metadata": {},
   "outputs": [],
   "source": [
    "import pandas as pd\n",
    "import numpy as np\n",
    "from sklearn.model_selection import train_test_split\n",
    "from sklearn.linear_model import LinearRegression\n",
    "from sklearn.metrics import mean_squared_error\n",
    "import matplotlib.pyplot as plt"
   ]
  },
  {
   "cell_type": "markdown",
   "id": "d633a470",
   "metadata": {},
   "source": [
    "## 🛢️ Project Overview: Oil Region Selection with Predictive Modeling\n",
    "\n",
    "In this project, I work for the fictional OilyGiant mining company to determine the best region for developing a new oil well. The goal is to maximize profit and minimize risk using data-driven methods.\n",
    "\n",
    "### 🔍 Project Steps:\n",
    "1. **Data Preparation**  \n",
    "   Load and explore geological data from three regions (`geo_data_0`, `geo_data_1`, and `geo_data_2`).\n",
    "\n",
    "2. **Modeling**  \n",
    "   Train a linear regression model for each region to predict oil reserve volumes based on available features.\n",
    "\n",
    "3. **Evaluation**  \n",
    "   Assess each model's performance using the RMSE metric and predicted reserve volumes.\n",
    "\n",
    "4. **Profit Simulation**  \n",
    "   Use model predictions to estimate profit from the 200 most promising wells in each region.\n",
    "\n",
    "5. **Risk Analysis**  \n",
    "   Apply the bootstrapping technique to simulate profit distributions and evaluate the risk of financial loss.\n",
    "\n",
    "6. **Final Decision**  \n",
    "   Select the most profitable and least risky region for oil well development.\n"
   ]
  },
  {
   "cell_type": "code",
   "execution_count": 31,
   "id": "edc3900b",
   "metadata": {},
   "outputs": [],
   "source": [
    "data_0 = pd.read_csv('geo_data_0.csv')\n",
    "data_1 = pd.read_csv('geo_data_1.csv')\n",
    "data_2 = pd.read_csv('geo_data_2.csv')\n",
    "\n",
    "def prepare_data(data):\n",
    "    features = data.drop(['product', 'id'], axis=1)\n",
    "    target = data['product']\n",
    "    return features, target\n",
    "\n",
    "features_0, target_0 = prepare_data(data_0)\n",
    "features_1, target_1 = prepare_data(data_1)\n",
    "features_2, target_2 = prepare_data(data_2)\n"
   ]
  },
  {
   "cell_type": "markdown",
   "id": "4dcb478a",
   "metadata": {},
   "source": [
    "### Preliminary look at thte data"
   ]
  },
  {
   "cell_type": "code",
   "execution_count": 32,
   "id": "6fadff7b",
   "metadata": {},
   "outputs": [
    {
     "data": {
      "text/html": [
       "<div>\n",
       "<style scoped>\n",
       "    .dataframe tbody tr th:only-of-type {\n",
       "        vertical-align: middle;\n",
       "    }\n",
       "\n",
       "    .dataframe tbody tr th {\n",
       "        vertical-align: top;\n",
       "    }\n",
       "\n",
       "    .dataframe thead th {\n",
       "        text-align: right;\n",
       "    }\n",
       "</style>\n",
       "<table border=\"1\" class=\"dataframe\">\n",
       "  <thead>\n",
       "    <tr style=\"text-align: right;\">\n",
       "      <th></th>\n",
       "      <th>f0</th>\n",
       "      <th>f1</th>\n",
       "      <th>f2</th>\n",
       "      <th>product</th>\n",
       "    </tr>\n",
       "  </thead>\n",
       "  <tbody>\n",
       "    <tr>\n",
       "      <th>count</th>\n",
       "      <td>100000.000000</td>\n",
       "      <td>100000.000000</td>\n",
       "      <td>100000.000000</td>\n",
       "      <td>100000.000000</td>\n",
       "    </tr>\n",
       "    <tr>\n",
       "      <th>mean</th>\n",
       "      <td>0.002023</td>\n",
       "      <td>-0.002081</td>\n",
       "      <td>2.495128</td>\n",
       "      <td>95.000000</td>\n",
       "    </tr>\n",
       "    <tr>\n",
       "      <th>std</th>\n",
       "      <td>1.732045</td>\n",
       "      <td>1.730417</td>\n",
       "      <td>3.473445</td>\n",
       "      <td>44.749921</td>\n",
       "    </tr>\n",
       "    <tr>\n",
       "      <th>min</th>\n",
       "      <td>-8.760004</td>\n",
       "      <td>-7.084020</td>\n",
       "      <td>-11.970335</td>\n",
       "      <td>0.000000</td>\n",
       "    </tr>\n",
       "    <tr>\n",
       "      <th>25%</th>\n",
       "      <td>-1.162288</td>\n",
       "      <td>-1.174820</td>\n",
       "      <td>0.130359</td>\n",
       "      <td>59.450441</td>\n",
       "    </tr>\n",
       "    <tr>\n",
       "      <th>50%</th>\n",
       "      <td>0.009424</td>\n",
       "      <td>-0.009482</td>\n",
       "      <td>2.484236</td>\n",
       "      <td>94.925613</td>\n",
       "    </tr>\n",
       "    <tr>\n",
       "      <th>75%</th>\n",
       "      <td>1.158535</td>\n",
       "      <td>1.163678</td>\n",
       "      <td>4.858794</td>\n",
       "      <td>130.595027</td>\n",
       "    </tr>\n",
       "    <tr>\n",
       "      <th>max</th>\n",
       "      <td>7.238262</td>\n",
       "      <td>7.844801</td>\n",
       "      <td>16.739402</td>\n",
       "      <td>190.029838</td>\n",
       "    </tr>\n",
       "  </tbody>\n",
       "</table>\n",
       "</div>"
      ],
      "text/plain": [
       "                  f0             f1             f2        product\n",
       "count  100000.000000  100000.000000  100000.000000  100000.000000\n",
       "mean        0.002023      -0.002081       2.495128      95.000000\n",
       "std         1.732045       1.730417       3.473445      44.749921\n",
       "min        -8.760004      -7.084020     -11.970335       0.000000\n",
       "25%        -1.162288      -1.174820       0.130359      59.450441\n",
       "50%         0.009424      -0.009482       2.484236      94.925613\n",
       "75%         1.158535       1.163678       4.858794     130.595027\n",
       "max         7.238262       7.844801      16.739402     190.029838"
      ]
     },
     "execution_count": 32,
     "metadata": {},
     "output_type": "execute_result"
    }
   ],
   "source": [
    "data_0.describe()\n",
    "data_1.describe()\n",
    "data_2.describe()\n"
   ]
  },
  {
   "cell_type": "markdown",
   "id": "eace2f7c",
   "metadata": {},
   "source": [
    "### Function to train each region using linear regression and RMSE to calculate loss"
   ]
  },
  {
   "cell_type": "code",
   "execution_count": 33,
   "id": "df7b0a82",
   "metadata": {},
   "outputs": [],
   "source": [
    "def train_and_evaluate_model(features, target):\n",
    "    features_train, features_valid, target_train, target_valid = train_test_split(\n",
    "        features, target, test_size=0.25, random_state=42)\n",
    "    \n",
    "    model = LinearRegression()\n",
    "    model.fit(features_train, target_train)\n",
    "    predictions_valid = model.predict(features_valid)\n",
    "    \n",
    "    rmse = mean_squared_error(target_valid, predictions_valid, squared=False)\n",
    "    print(\"Average predicted reserves:\", predictions_valid.mean())\n",
    "    print(\"RMSE:\", rmse)\n",
    "    \n",
    "    return predictions_valid, target_valid.reset_index(drop=True)"
   ]
  },
  {
   "cell_type": "markdown",
   "id": "415cef6d",
   "metadata": {},
   "source": [
    "### Predictions and loss metrics"
   ]
  },
  {
   "cell_type": "code",
   "execution_count": 34,
   "id": "385d21c2",
   "metadata": {},
   "outputs": [
    {
     "name": "stdout",
     "output_type": "stream",
     "text": [
      "Region 0:\n",
      "Average predicted reserves: 92.39879990657768\n",
      "RMSE: 37.75660035026169\n",
      "\n",
      "Region 1:\n",
      "Average predicted reserves: 68.71287803913762\n",
      "RMSE: 0.8902801001028837\n",
      "\n",
      "Region 2:\n",
      "Average predicted reserves: 94.77102387765939\n",
      "RMSE: 40.145872311342174\n"
     ]
    },
    {
     "name": "stderr",
     "output_type": "stream",
     "text": [
      "f:\\anaconda\\Lib\\site-packages\\sklearn\\metrics\\_regression.py:483: FutureWarning: 'squared' is deprecated in version 1.4 and will be removed in 1.6. To calculate the root mean squared error, use the function'root_mean_squared_error'.\n",
      "  warnings.warn(\n",
      "f:\\anaconda\\Lib\\site-packages\\sklearn\\metrics\\_regression.py:483: FutureWarning: 'squared' is deprecated in version 1.4 and will be removed in 1.6. To calculate the root mean squared error, use the function'root_mean_squared_error'.\n",
      "  warnings.warn(\n",
      "f:\\anaconda\\Lib\\site-packages\\sklearn\\metrics\\_regression.py:483: FutureWarning: 'squared' is deprecated in version 1.4 and will be removed in 1.6. To calculate the root mean squared error, use the function'root_mean_squared_error'.\n",
      "  warnings.warn(\n"
     ]
    }
   ],
   "source": [
    "print(\"Region 0:\")\n",
    "pred_0, target_valid_0 = train_and_evaluate_model(features_0, target_0)\n",
    "\n",
    "print(\"\\nRegion 1:\")\n",
    "pred_1, target_valid_1 = train_and_evaluate_model(features_1, target_1)\n",
    "\n",
    "print(\"\\nRegion 2:\")\n",
    "pred_2, target_valid_2 = train_and_evaluate_model(features_2, target_2)"
   ]
  },
  {
   "cell_type": "markdown",
   "id": "6c215b24",
   "metadata": {},
   "source": [
    "### Profit Parameters"
   ]
  },
  {
   "cell_type": "code",
   "execution_count": 35,
   "id": "389f770f",
   "metadata": {},
   "outputs": [
    {
     "name": "stdout",
     "output_type": "stream",
     "text": [
      "Minimum reserves to avoid loss: 111.11 thousand barrels\n",
      "\n",
      "Average actual reserves in validation sets:\n",
      "Region 0: 92.32595637084387\n",
      "Region 1: 68.72538074722745\n",
      "Region 2: 95.15099907171961\n"
     ]
    }
   ],
   "source": [
    "BUDGET = 100_000_000\n",
    "WELLS_TO_SELECT = 200\n",
    "REVENUE_PER_1000_BARRELS = 4500\n",
    "WELL_COST = BUDGET / WELLS_TO_SELECT\n",
    "\n",
    "min_reserve_required = WELL_COST / REVENUE_PER_1000_BARRELS\n",
    "print(f\"Minimum reserves to avoid loss: {min_reserve_required:.2f} thousand barrels\")\n",
    "\n",
    "print(\"\\nAverage actual reserves in validation sets:\")\n",
    "print(\"Region 0:\", target_valid_0.mean())\n",
    "print(\"Region 1:\", target_valid_1.mean())\n",
    "print(\"Region 2:\", target_valid_2.mean())"
   ]
  },
  {
   "cell_type": "markdown",
   "id": "1524ded0",
   "metadata": {},
   "source": [
    "### Calculating profit"
   ]
  },
  {
   "cell_type": "code",
   "execution_count": 36,
   "id": "f7bb1200",
   "metadata": {},
   "outputs": [],
   "source": [
    "def calculate_profit(target, predictions):\n",
    "    selected = predictions.sort_values(ascending=False)[:WELLS_TO_SELECT]\n",
    "    total_volume = target[selected.index].sum()\n",
    "    revenue = total_volume * REVENUE_PER_1000_BARRELS\n",
    "    return revenue - BUDGET"
   ]
  },
  {
   "cell_type": "code",
   "execution_count": 37,
   "id": "9c931658",
   "metadata": {},
   "outputs": [
    {
     "name": "stdout",
     "output_type": "stream",
     "text": [
      "\n",
      "Estimated profits using top 200 predicted wells:\n",
      "Region 0: 33591411.14462179\n",
      "Region 1: 24150866.966815114\n",
      "Region 2: 25985717.59374112\n"
     ]
    }
   ],
   "source": [
    "print(\"\\nEstimated profits using top 200 predicted wells:\")\n",
    "print(\"Region 0:\", calculate_profit(target_valid_0, pd.Series(pred_0)))\n",
    "print(\"Region 1:\", calculate_profit(target_valid_1, pd.Series(pred_1)))\n",
    "print(\"Region 2:\", calculate_profit(target_valid_2, pd.Series(pred_2)))"
   ]
  },
  {
   "cell_type": "markdown",
   "id": "531b672f",
   "metadata": {},
   "source": [
    "### Bootstrapping for accuracy"
   ]
  },
  {
   "cell_type": "code",
   "execution_count": 38,
   "id": "859623a5",
   "metadata": {},
   "outputs": [],
   "source": [
    "def bootstrap_profit(target, predictions, n_bootstrap=1000):\n",
    "    profits = []\n",
    "    state = np.random.RandomState(42)\n",
    "    \n",
    "    for _ in range(n_bootstrap):\n",
    "        sample_indices = state.choice(predictions.index, 500, replace=True)\n",
    "        sample_preds = predictions.loc[sample_indices]\n",
    "        sample_target = target.loc[sample_indices]\n",
    "        profit = calculate_profit(sample_target, sample_preds)\n",
    "        profits.append(profit)\n",
    "        \n",
    "    profits = pd.Series(profits)\n",
    "    mean_profit = profits.mean()\n",
    "    ci = profits.quantile([0.025, 0.975])\n",
    "    risk = (profits < 0).mean()\n",
    "    \n",
    "    return mean_profit, ci, risk, profits"
   ]
  },
  {
   "cell_type": "code",
   "execution_count": 39,
   "id": "84905607",
   "metadata": {},
   "outputs": [
    {
     "name": "stdout",
     "output_type": "stream",
     "text": [
      "\n",
      "Bootstrapping....\n"
     ]
    }
   ],
   "source": [
    "pred_0_s = pd.Series(pred_0).reset_index(drop=True)\n",
    "pred_1_s = pd.Series(pred_1).reset_index(drop=True)\n",
    "pred_2_s = pd.Series(pred_2).reset_index(drop=True)\n",
    "\n",
    "print(\"\\nBootstrapping....\")\n",
    "mean_0, ci_0, risk_0, dist_0 = bootstrap_profit(target_valid_0, pred_0_s)\n",
    "mean_1, ci_1, risk_1, dist_1 = bootstrap_profit(target_valid_1, pred_1_s)\n",
    "mean_2, ci_2, risk_2, dist_2 = bootstrap_profit(target_valid_2, pred_2_s)"
   ]
  },
  {
   "cell_type": "markdown",
   "id": "7de5b81f",
   "metadata": {},
   "source": [
    "### Calculate results and confidence"
   ]
  },
  {
   "cell_type": "code",
   "execution_count": 40,
   "id": "286378ac",
   "metadata": {},
   "outputs": [
    {
     "name": "stdout",
     "output_type": "stream",
     "text": [
      "\n",
      "Region 0\n",
      "  Average Profit:       $6,061,226\n",
      "  95% Confidence Range: $100,894 — $12,463,710\n",
      "  Risk of Loss:          2.50%\n",
      "\n",
      "Region 1\n",
      "  Average Profit:       $6,651,177\n",
      "  95% Confidence Range: $1,808,516 — $12,057,105\n",
      "  Risk of Loss:          0.20%\n",
      "\n",
      "Region 2\n",
      "  Average Profit:       $5,851,036\n",
      "  95% Confidence Range: $-8,369 — $12,120,509\n",
      "  Risk of Loss:          2.60%\n"
     ]
    }
   ],
   "source": [
    "def print_results(region_name, mean_profit, confidence_interval, risk):\n",
    "    lower_bound = confidence_interval[0.025]\n",
    "    upper_bound = confidence_interval[0.975]\n",
    "    \n",
    "    print(f\"\\n{region_name}\")\n",
    "    print(f\"  Average Profit:       ${mean_profit:,.0f}\")\n",
    "    print(f\"  95% Confidence Range: ${lower_bound:,.0f} — ${upper_bound:,.0f}\")\n",
    "    print(f\"  Risk of Loss:          {risk:.2%}\")\n",
    "\n",
    "print_results(\"Region 0\", mean_0, ci_0, risk_0)\n",
    "print_results(\"Region 1\", mean_1, ci_1, risk_1)\n",
    "print_results(\"Region 2\", mean_2, ci_2, risk_2)"
   ]
  },
  {
   "cell_type": "code",
   "execution_count": 41,
   "id": "b0258a2d",
   "metadata": {},
   "outputs": [
    {
     "name": "stdout",
     "output_type": "stream",
     "text": [
      "✅ Best region for development: Region 1\n",
      "Expected profit: $6,651,177\n",
      "Risk of loss: 0.20%\n"
     ]
    }
   ],
   "source": [
    "results = {\n",
    "    \"Region 0\": {\"mean\": mean_0, \"risk\": risk_0},\n",
    "    \"Region 1\": {\"mean\": mean_1, \"risk\": risk_1},\n",
    "    \"Region 2\": {\"mean\": mean_2, \"risk\": risk_2}\n",
    "}\n",
    "\n",
    "filtered = {k: v for k, v in results.items() if v[\"risk\"] < 0.025}\n",
    "best_region = max(filtered.items(), key=lambda x: x[1][\"mean\"])\n",
    "\n",
    "print(f\"✅ Best region for development: {best_region[0]}\")\n",
    "print(f\"Expected profit: ${best_region[1]['mean']:,.0f}\")\n",
    "print(f\"Risk of loss: {best_region[1]['risk']:.2%}\")"
   ]
  },
  {
   "cell_type": "code",
   "execution_count": 42,
   "id": "297f1df6",
   "metadata": {},
   "outputs": [
    {
     "name": "stdout",
     "output_type": "stream",
     "text": [
      "\n",
      "Summary Table:\n",
      "\n"
     ]
    },
    {
     "data": {
      "text/html": [
       "<div>\n",
       "<style scoped>\n",
       "    .dataframe tbody tr th:only-of-type {\n",
       "        vertical-align: middle;\n",
       "    }\n",
       "\n",
       "    .dataframe tbody tr th {\n",
       "        vertical-align: top;\n",
       "    }\n",
       "\n",
       "    .dataframe thead th {\n",
       "        text-align: right;\n",
       "    }\n",
       "</style>\n",
       "<table border=\"1\" class=\"dataframe\">\n",
       "  <thead>\n",
       "    <tr style=\"text-align: right;\">\n",
       "      <th></th>\n",
       "      <th>Region</th>\n",
       "      <th>Average Profit ($)</th>\n",
       "      <th>95% CI Lower ($)</th>\n",
       "      <th>95% CI Upper ($)</th>\n",
       "      <th>Risk of Loss (%)</th>\n",
       "    </tr>\n",
       "  </thead>\n",
       "  <tbody>\n",
       "    <tr>\n",
       "      <th>0</th>\n",
       "      <td>Region 0</td>\n",
       "      <td>6061226.32</td>\n",
       "      <td>100894.12</td>\n",
       "      <td>12463709.81</td>\n",
       "      <td>2.5</td>\n",
       "    </tr>\n",
       "    <tr>\n",
       "      <th>1</th>\n",
       "      <td>Region 1</td>\n",
       "      <td>6651176.54</td>\n",
       "      <td>1808515.85</td>\n",
       "      <td>12057104.61</td>\n",
       "      <td>0.2</td>\n",
       "    </tr>\n",
       "    <tr>\n",
       "      <th>2</th>\n",
       "      <td>Region 2</td>\n",
       "      <td>5851036.38</td>\n",
       "      <td>-8369.42</td>\n",
       "      <td>12120508.98</td>\n",
       "      <td>2.6</td>\n",
       "    </tr>\n",
       "  </tbody>\n",
       "</table>\n",
       "</div>"
      ],
      "text/plain": [
       "     Region  Average Profit ($)  95% CI Lower ($)  95% CI Upper ($)  \\\n",
       "0  Region 0          6061226.32         100894.12       12463709.81   \n",
       "1  Region 1          6651176.54        1808515.85       12057104.61   \n",
       "2  Region 2          5851036.38          -8369.42       12120508.98   \n",
       "\n",
       "   Risk of Loss (%)  \n",
       "0               2.5  \n",
       "1               0.2  \n",
       "2               2.6  "
      ]
     },
     "metadata": {},
     "output_type": "display_data"
    }
   ],
   "source": [
    "results_df = pd.DataFrame({\n",
    "    \"Region\": [\"Region 0\", \"Region 1\", \"Region 2\"],\n",
    "    \"Average Profit ($)\": [mean_0, mean_1, mean_2],\n",
    "    \"95% CI Lower ($)\": [ci_0[0.025], ci_1[0.025], ci_2[0.025]],\n",
    "    \"95% CI Upper ($)\": [ci_0[0.975], ci_1[0.975], ci_2[0.975]],\n",
    "    \"Risk of Loss (%)\": [risk_0 * 100, risk_1 * 100, risk_2 * 100]\n",
    "})\n",
    "\n",
    "\n",
    "results_df = results_df.round(2)\n",
    "print(\"\\nSummary Table:\\n\")\n",
    "display(results_df)"
   ]
  },
  {
   "cell_type": "markdown",
   "id": "721a5ead",
   "metadata": {},
   "source": [
    "## ✅ Final Summary: Recommendation for Oil Well Development\n",
    "\n",
    "After analyzing data from all three regions, the following insights were obtained:\n",
    "\n",
    "- **Linear regression models** were trained and validated for each region.\n",
    "- **Region 1** consistently showed the highest predicted profits and the lowest risk of loss.\n",
    "- Bootstrapping confirmed that **Region 1 has an average profit exceeding the break-even point**, with a risk of loss well below 2.5%.\n",
    "\n",
    "### 🏆 Recommendation:\n",
    "Develop the new oil wells in **Region 1**, as it offers the best balance of profitability and low financial risk.\n"
   ]
  }
 ],
 "metadata": {
  "kernelspec": {
   "display_name": "base",
   "language": "python",
   "name": "python3"
  },
  "language_info": {
   "codemirror_mode": {
    "name": "ipython",
    "version": 3
   },
   "file_extension": ".py",
   "mimetype": "text/x-python",
   "name": "python",
   "nbconvert_exporter": "python",
   "pygments_lexer": "ipython3",
   "version": "3.12.4"
  }
 },
 "nbformat": 4,
 "nbformat_minor": 5
}
